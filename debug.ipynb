{
 "cells": [
  {
   "cell_type": "code",
   "execution_count": 1,
   "metadata": {},
   "outputs": [],
   "source": [
    "from trainer import make_encoder\n",
    "import os\n",
    "import torch"
   ]
  },
  {
   "cell_type": "code",
   "execution_count": 3,
   "metadata": {},
   "outputs": [
    {
     "name": "stdout",
     "output_type": "stream",
     "text": [
      "Using torchvision resnet34 encoder\n"
     ]
    }
   ],
   "source": [
    "# class conf():\n",
    "#     def __init__(self) -> None:\n",
    "#         pass\n",
    "\n",
    "#     def get_string(self,s1,s2):\n",
    "#         return s2\n",
    "\n",
    "#     def get_float(self,s1,s2):\n",
    "#         return s2\n",
    "\n",
    "#     def get_int(self,s1,s2):\n",
    "#         return s2\n",
    "\n",
    "#     def get_bool(self,s1,s2):\n",
    "#         return s2\n",
    "        \n",
    "# conf = conf()\n",
    "# encoder = make_encoder(conf)\n",
    "encoder = make_encoder()"
   ]
  },
  {
   "cell_type": "code",
   "execution_count": 5,
   "metadata": {},
   "outputs": [],
   "source": [
    "import cv2\n",
    "img = cv2.imread(\"/data/yangchen/ICL-NUIM/Di-Fusion_demo/rgb/178.png\")\n",
    "\n"
   ]
  },
  {
   "cell_type": "code",
   "execution_count": null,
   "metadata": {},
   "outputs": [],
   "source": []
  },
  {
   "cell_type": "code",
   "execution_count": null,
   "metadata": {},
   "outputs": [],
   "source": []
  }
 ],
 "metadata": {
  "interpreter": {
   "hash": "afc46cdbaec78713ab9233e91f9bf86eb4111f2df6c8364fa345446d20f0faae"
  },
  "kernelspec": {
   "display_name": "Python 3.7.11 64-bit ('dif': conda)",
   "name": "python3"
  },
  "language_info": {
   "codemirror_mode": {
    "name": "ipython",
    "version": 3
   },
   "file_extension": ".py",
   "mimetype": "text/x-python",
   "name": "python",
   "nbconvert_exporter": "python",
   "pygments_lexer": "ipython3",
   "version": "3.7.11"
  },
  "orig_nbformat": 4
 },
 "nbformat": 4,
 "nbformat_minor": 2
}
