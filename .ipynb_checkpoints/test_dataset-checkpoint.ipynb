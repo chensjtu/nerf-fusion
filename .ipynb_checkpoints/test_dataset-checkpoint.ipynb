{
 "cells": [
  {
   "cell_type": "code",
   "execution_count": 2,
   "metadata": {},
   "outputs": [],
   "source": [
    "import torch\n",
    "import numpy as np\n",
    "import matplotlib.pyplot as plt\n",
    "%matplotlib inline\n",
    "import os, cv2\n",
    "import math"
   ]
  },
  {
   "cell_type": "markdown",
   "metadata": {},
   "source": [
    "# vis depth"
   ]
  },
  {
   "cell_type": "code",
   "execution_count": null,
   "metadata": {},
   "outputs": [],
   "source": [
    "gt = torch.load(\"gt.pt\")\n",
    "re = torch.load('rend_dp.pt')\n",
    "img = torch.cat((gt, re, torch.abs(gt-re)),dim=-1).numpy()\n",
    "plt.imshow(img,cmap=\"hot\")"
   ]
  },
  {
   "cell_type": "code",
   "execution_count": null,
   "metadata": {},
   "outputs": [],
   "source": [
    "gt.max()"
   ]
  },
  {
   "cell_type": "markdown",
   "metadata": {},
   "source": [
    "## test backproject"
   ]
  },
  {
   "cell_type": "code",
   "execution_count": null,
   "metadata": {},
   "outputs": [],
   "source": [
    "def inv_project_points_cam_coords(intrinsic, uvd, c2w):\n",
    "    '''\n",
    "    As inv_project_points but doesn't do the homogeneous transformation\n",
    "    int: 3x3, uvd:Nx3, c2w:3X4\n",
    "    '''\n",
    "    if len(uvd.shape) > 2:\n",
    "        uvd = uvd.reshape(-1,3)\n",
    "    if intrinsic.shape[0]>3:\n",
    "        intrinsic = intrinsic[:3,:3]\n",
    "    if c2w.shape[0]>3:\n",
    "        c2w = c2w[:3,:]\n",
    "    n_points = uvd.shape[0]\n",
    "\n",
    "    # creating the camera rays\n",
    "    uv1 = torch.hstack((uvd[:, :2], torch.ones((n_points, 1))))\n",
    "    camera_rays = torch.mm(intrinsic.inverse(), uv1.T).T\n",
    "\n",
    "    # forming the xyz points in the camera coordinates\n",
    "    temp = uvd[:, 2][:,None].repeat(1,3)\n",
    "    xyz_at_cam_loc = temp * camera_rays\n",
    "    xyz_at_cam_loc = torch.hstack((xyz_at_cam_loc, torch.ones((n_points, 1))))\n",
    "    # project to xyz\n",
    "    xyz_world = torch.mm(c2w, xyz_at_cam_loc.T).T\n",
    "\n",
    "    return xyz_world\n",
    "\n",
    "# @torch.jit.script\n",
    "def re_projection(uvd, intrinsic, c2w):\n",
    "    '''\n",
    "    As inv_project_points but doesn't do the homogeneous transformation\n",
    "    int: 3x3, uvd:Nx3, c2w:3X4\n",
    "    '''\n",
    "    if len(uvd.shape) > 2:\n",
    "        uvd = uvd.reshape(-1,3)\n",
    "    if intrinsic.shape[0]>3:\n",
    "        intrinsic = intrinsic[:3,:3]\n",
    "    if c2w.shape[0]>3:\n",
    "        c2w = c2w[:3,:]\n",
    "    n_points = uvd.shape[0]\n",
    "    \n",
    "\n",
    "\n",
    "\n",
    "def projection(xyz, K, ext):\n",
    "    newK = torch.eye(4)\n",
    "    newK[:3,:3] = K\n",
    "    P = newK@ext\n",
    "    uvz = P@xyz\n",
    "    return uvz, uvz[:2,:]/uvz[2:3,:]"
   ]
  },
  {
   "cell_type": "code",
   "execution_count": null,
   "metadata": {},
   "outputs": [],
   "source": [
    "K = torch.tensor([[300,0,400],[0,300,400],[0,0,1]]).float()\n",
    "R = torch.eye(3)"
   ]
  },
  {
   "cell_type": "code",
   "execution_count": null,
   "metadata": {},
   "outputs": [],
   "source": [
    "pose = torch.tensor([[1,0,0,0],[0,1,0,0],[0,0,1,-1],[0,0,0,1]]).float()\n",
    "print(pose)"
   ]
  },
  {
   "cell_type": "code",
   "execution_count": null,
   "metadata": {},
   "outputs": [],
   "source": [
    "Pw = torch.tensor([[3,4,4,1]]).float().T\n",
    "Pw"
   ]
  },
  {
   "cell_type": "code",
   "execution_count": null,
   "metadata": {},
   "outputs": [],
   "source": [
    "projection(Pw,K,pose.inverse())"
   ]
  },
  {
   "cell_type": "code",
   "execution_count": null,
   "metadata": {},
   "outputs": [],
   "source": [
    "import torch\n",
    "from typing import Tuple\n",
    "a = torch.zeros((1))\n",
    "b = torch.ones((1))\n",
    "isinstance((a,b), Tuple)"
   ]
  },
  {
   "cell_type": "code",
   "execution_count": null,
   "metadata": {},
   "outputs": [],
   "source": [
    "wd = inv_project_points_cam_coords(K,torch.tensor([682.8427,682.8427,3]).unsqueeze(0),pose)\n",
    "wd"
   ]
  },
  {
   "cell_type": "code",
   "execution_count": null,
   "metadata": {},
   "outputs": [],
   "source": [
    "wd = inv_project_points_cam_coords(K,torch.tensor([580,640,5]).unsqueeze(0),pose)\n",
    "wd"
   ]
  },
  {
   "cell_type": "code",
   "execution_count": null,
   "metadata": {},
   "outputs": [],
   "source": [
    "Pc_tmp = torch.ones((4,1))\n",
    "Pc_tmp[:3,] = Pc_tmp\n",
    "pose[:3,:]@Pc_tmp"
   ]
  },
  {
   "cell_type": "code",
   "execution_count": null,
   "metadata": {},
   "outputs": [],
   "source": [
    "Pc_tmp"
   ]
  },
  {
   "cell_type": "code",
   "execution_count": null,
   "metadata": {},
   "outputs": [],
   "source": [
    "K"
   ]
  },
  {
   "cell_type": "code",
   "execution_count": null,
   "metadata": {},
   "outputs": [],
   "source": [
    "K.inverse()"
   ]
  },
  {
   "cell_type": "markdown",
   "metadata": {},
   "source": [
    "# test f.embeding"
   ]
  },
  {
   "cell_type": "code",
   "execution_count": null,
   "metadata": {},
   "outputs": [],
   "source": [
    "import torch.nn.functional as F\n",
    "import torch\n",
    "\n",
    "pix_mask = torch.ones((9,16)).long()[0]\n",
    "feats = torch.randn((9,16,64))[0]\n",
    "pix_mask"
   ]
  },
  {
   "cell_type": "code",
   "execution_count": null,
   "metadata": {},
   "outputs": [],
   "source": [
    "labels = torch.tensor([0, 1, 0])\n",
    "x = torch.tensor([[1, 2, 3],[4, 5, 6],[7, 8, 9]])\n",
    "\n",
    "nrow = torch.unique(labels).size(0)\n",
    "ncol = x.size(1)\n",
    "out = torch.zeros((nrow, ncol), dtype=x.dtype)\n",
    "out.index_add_(0, labels, x)\n",
    "print(out)"
   ]
  },
  {
   "cell_type": "code",
   "execution_count": null,
   "metadata": {},
   "outputs": [],
   "source": [
    "labels = torch.tensor([0, 2, 1])\n",
    "x = torch.tensor([[1, 2, 3],[4, 5, 6],[7, 8, 9]])\n",
    "\n",
    "nrow = torch.unique(labels).size(0)\n",
    "ncol = x.size(1)\n",
    "out = torch.zeros((nrow, ncol), dtype=x.dtype)\n",
    "out.index_add_(0, labels, x)\n",
    "print(out)"
   ]
  },
  {
   "cell_type": "markdown",
   "metadata": {},
   "source": [
    "# vis data"
   ]
  },
  {
   "cell_type": "code",
   "execution_count": 1,
   "metadata": {},
   "outputs": [],
   "source": [
    "tsdf_info = \"/home/yangchen/projects/SLAM_systems/Accel-RF/demo_dir/scannet/all_tsdf_9/scene0079_00/tsdf_info.pkl\"\n",
    "fragments = \"/data/yangchen/datasets_in_papers/neural_RGBD_recon/all_tsdf/breakfast_room/fragments.pkl\"\n",
    "import pickle"
   ]
  },
  {
   "cell_type": "code",
   "execution_count": 2,
   "metadata": {},
   "outputs": [],
   "source": [
    "with open(fragments, \"rb\") as f:\n",
    "    data = pickle.load(f)"
   ]
  },
  {
   "cell_type": "code",
   "execution_count": 4,
   "metadata": {},
   "outputs": [
    {
     "data": {
      "text/plain": [
       "[{'scene': 'breakfast_room',\n",
       "  'fragment_id': 0,\n",
       "  'image_ids': [0, 8, 16, 23, 30, 38, 46, 53, 61],\n",
       "  'vol_origin': array([-7.0800014, -5.582102 , -5.5077543], dtype=float32),\n",
       "  'voxel_size': 0.04},\n",
       " {'scene': 'breakfast_room',\n",
       "  'fragment_id': 1,\n",
       "  'image_ids': [62, 70, 78, 86, 93, 100, 108, 116, 124],\n",
       "  'vol_origin': array([-7.0800014, -5.582102 , -5.5077543], dtype=float32),\n",
       "  'voxel_size': 0.04},\n",
       " {'scene': 'breakfast_room',\n",
       "  'fragment_id': 2,\n",
       "  'image_ids': [125, 133, 140, 149, 157, 164, 172, 180, 187],\n",
       "  'vol_origin': array([-7.0800014, -5.582102 , -5.5077543], dtype=float32),\n",
       "  'voxel_size': 0.04},\n",
       " {'scene': 'breakfast_room',\n",
       "  'fragment_id': 3,\n",
       "  'image_ids': [188, 195, 202, 210, 217, 224, 231, 239, 247],\n",
       "  'vol_origin': array([-7.0800014, -5.582102 , -5.5077543], dtype=float32),\n",
       "  'voxel_size': 0.04},\n",
       " {'scene': 'breakfast_room',\n",
       "  'fragment_id': 4,\n",
       "  'image_ids': [248, 257, 263, 291, 300, 307, 314, 320, 326],\n",
       "  'vol_origin': array([-7.0800014, -5.582102 , -5.5077543], dtype=float32),\n",
       "  'voxel_size': 0.04},\n",
       " {'scene': 'breakfast_room',\n",
       "  'fragment_id': 5,\n",
       "  'image_ids': [327, 333, 339, 345, 351, 357, 364, 372, 379],\n",
       "  'vol_origin': array([-7.0800014, -5.582102 , -5.5077543], dtype=float32),\n",
       "  'voxel_size': 0.04},\n",
       " {'scene': 'breakfast_room',\n",
       "  'fragment_id': 6,\n",
       "  'image_ids': [380, 387, 394, 401, 409, 417, 425, 433, 443],\n",
       "  'vol_origin': array([-7.0800014, -5.582102 , -5.5077543], dtype=float32),\n",
       "  'voxel_size': 0.04},\n",
       " {'scene': 'breakfast_room',\n",
       "  'fragment_id': 7,\n",
       "  'image_ids': [444, 452, 460, 468, 475, 482, 489, 496, 503],\n",
       "  'vol_origin': array([-7.0800014, -5.582102 , -5.5077543], dtype=float32),\n",
       "  'voxel_size': 0.04},\n",
       " {'scene': 'breakfast_room',\n",
       "  'fragment_id': 8,\n",
       "  'image_ids': [504, 512, 520, 527, 534, 541, 547, 554, 561],\n",
       "  'vol_origin': array([-7.0800014, -5.582102 , -5.5077543], dtype=float32),\n",
       "  'voxel_size': 0.04},\n",
       " {'scene': 'breakfast_room',\n",
       "  'fragment_id': 9,\n",
       "  'image_ids': [562, 569, 576, 584, 593, 603, 613, 621, 629],\n",
       "  'vol_origin': array([-7.0800014, -5.582102 , -5.5077543], dtype=float32),\n",
       "  'voxel_size': 0.04},\n",
       " {'scene': 'breakfast_room',\n",
       "  'fragment_id': 10,\n",
       "  'image_ids': [630, 637, 644, 651, 658, 665, 673, 681, 689],\n",
       "  'vol_origin': array([-7.0800014, -5.582102 , -5.5077543], dtype=float32),\n",
       "  'voxel_size': 0.04},\n",
       " {'scene': 'breakfast_room',\n",
       "  'fragment_id': 11,\n",
       "  'image_ids': [690, 698, 705, 712, 720, 729, 737, 743, 750],\n",
       "  'vol_origin': array([-7.0800014, -5.582102 , -5.5077543], dtype=float32),\n",
       "  'voxel_size': 0.04},\n",
       " {'scene': 'breakfast_room',\n",
       "  'fragment_id': 12,\n",
       "  'image_ids': [751, 757, 763, 769, 776, 785, 824, 835, 844],\n",
       "  'vol_origin': array([-7.0800014, -5.582102 , -5.5077543], dtype=float32),\n",
       "  'voxel_size': 0.04},\n",
       " {'scene': 'breakfast_room',\n",
       "  'fragment_id': 13,\n",
       "  'image_ids': [845, 853, 860, 867, 874, 880, 886, 892, 898],\n",
       "  'vol_origin': array([-7.0800014, -5.582102 , -5.5077543], dtype=float32),\n",
       "  'voxel_size': 0.04},\n",
       " {'scene': 'breakfast_room',\n",
       "  'fragment_id': 14,\n",
       "  'image_ids': [899, 905, 910, 916, 922, 928, 933, 939, 945],\n",
       "  'vol_origin': array([-7.0800014, -5.582102 , -5.5077543], dtype=float32),\n",
       "  'voxel_size': 0.04},\n",
       " {'scene': 'breakfast_room',\n",
       "  'fragment_id': 15,\n",
       "  'image_ids': [946, 952, 959, 965, 971, 979, 986, 993, 1003],\n",
       "  'vol_origin': array([-7.0800014, -5.582102 , -5.5077543], dtype=float32),\n",
       "  'voxel_size': 0.04},\n",
       " {'scene': 'breakfast_room',\n",
       "  'fragment_id': 16,\n",
       "  'image_ids': [1004, 1018, 1027, 1035, 1043, 1050, 1059, 1066, 1072],\n",
       "  'vol_origin': array([-7.0800014, -5.582102 , -5.5077543], dtype=float32),\n",
       "  'voxel_size': 0.04},\n",
       " {'scene': 'breakfast_room',\n",
       "  'fragment_id': 17,\n",
       "  'image_ids': [1073, 1081, 1088, 1094, 1100, 1108, 1116, 1122, 1130],\n",
       "  'vol_origin': array([-7.0800014, -5.582102 , -5.5077543], dtype=float32),\n",
       "  'voxel_size': 0.04}]"
      ]
     },
     "execution_count": 4,
     "metadata": {},
     "output_type": "execute_result"
    }
   ],
   "source": [
    "tmp = []\n",
    "for i in range(len(data)):\n",
    "    tmp.extend(data[i]['image_ids'])\n",
    "len(tmp)\n",
    "data"
   ]
  },
  {
   "cell_type": "markdown",
   "metadata": {},
   "source": [
    "# check items"
   ]
  },
  {
   "cell_type": "code",
   "execution_count": null,
   "metadata": {},
   "outputs": [],
   "source": [
    "@torch.jit.script\n",
    "def get_points_vox(center_pts: torch.Tensor, voxel_size: float=0.04, pt_pervox:int=8):\n",
    "    '''\n",
    "        input: center_pts: N, 3\n",
    "        sample_pts: N, 512, 3\n",
    "    '''\n",
    "    xv, yv, zv = torch.meshgrid(\n",
    "        torch.arange(0, pt_pervox),\n",
    "        torch.arange(0, pt_pervox),\n",
    "        torch.arange(0, pt_pervox),\n",
    "    )\n",
    "    vox_coords = torch.stack([xv.flatten(), yv.flatten(), zv.flatten()], dim=1).long().to(center_pts.device) # 512, 3\n",
    "    sample_pts = (center_pts - voxel_size*0.5)[:,None] + (vox_coords*voxel_size/pt_pervox).unsqueeze(0)\n",
    "    return sample_pts"
   ]
  },
  {
   "cell_type": "code",
   "execution_count": 37,
   "metadata": {},
   "outputs": [
    {
     "data": {
      "text/plain": [
       "tensor([[[0, 1],\n",
       "         [2, 3]],\n",
       "\n",
       "        [[4, 5],\n",
       "         [6, 7]]])"
      ]
     },
     "execution_count": 37,
     "metadata": {},
     "output_type": "execute_result"
    }
   ],
   "source": [
    "import torch\n",
    "a = torch.arange(8).reshape(2,2,2)\n",
    "a"
   ]
  },
  {
   "cell_type": "code",
   "execution_count": 38,
   "metadata": {},
   "outputs": [
    {
     "data": {
      "text/plain": [
       "tensor([[[0, 1, 0, 1],\n",
       "         [2, 3, 2, 3],\n",
       "         [0, 1, 0, 1],\n",
       "         [2, 3, 2, 3]],\n",
       "\n",
       "        [[4, 5, 4, 5],\n",
       "         [6, 7, 6, 7],\n",
       "         [4, 5, 4, 5],\n",
       "         [6, 7, 6, 7]],\n",
       "\n",
       "        [[0, 1, 0, 1],\n",
       "         [2, 3, 2, 3],\n",
       "         [0, 1, 0, 1],\n",
       "         [2, 3, 2, 3]],\n",
       "\n",
       "        [[4, 5, 4, 5],\n",
       "         [6, 7, 6, 7],\n",
       "         [4, 5, 4, 5],\n",
       "         [6, 7, 6, 7]]])"
      ]
     },
     "execution_count": 38,
     "metadata": {},
     "output_type": "execute_result"
    }
   ],
   "source": [
    "a.repeat(2,2,2)"
   ]
  },
  {
   "cell_type": "code",
   "execution_count": 31,
   "metadata": {},
   "outputs": [
    {
     "data": {
      "text/plain": [
       "tensor([[[[0, 0, 0],\n",
       "          [0, 0, 1]],\n",
       "\n",
       "         [[0, 1, 0],\n",
       "          [0, 1, 1]]],\n",
       "\n",
       "\n",
       "        [[[1, 0, 0],\n",
       "          [1, 0, 1]],\n",
       "\n",
       "         [[1, 1, 0],\n",
       "          [1, 1, 1]]]])"
      ]
     },
     "execution_count": 31,
     "metadata": {},
     "output_type": "execute_result"
    }
   ],
   "source": [
    "xv, yv, zv = torch.meshgrid(\n",
    "    torch.arange(0, 2),\n",
    "    torch.arange(0, 2),\n",
    "    torch.arange(0, 2),\n",
    ")\n",
    "vox_coords = torch.stack([xv.flatten(), yv.flatten(), zv.flatten()], dim=1).long()\n",
    "vox_coords.reshape(2,2,2,3)"
   ]
  },
  {
   "cell_type": "code",
   "execution_count": 11,
   "metadata": {},
   "outputs": [
    {
     "data": {
      "text/plain": [
       "torch.Size([3, 3, 3])"
      ]
     },
     "execution_count": 11,
     "metadata": {},
     "output_type": "execute_result"
    }
   ],
   "source": [
    "a.size()"
   ]
  },
  {
   "cell_type": "code",
   "execution_count": 16,
   "metadata": {},
   "outputs": [],
   "source": [
    "sh = a.shape"
   ]
  },
  {
   "cell_type": "code",
   "execution_count": 20,
   "metadata": {},
   "outputs": [
    {
     "data": {
      "text/plain": [
       "tensor([[[0., 0., 0.],\n",
       "         [0., 0., 0.],\n",
       "         [0., 0., 0.]],\n",
       "\n",
       "        [[0., 0., 0.],\n",
       "         [0., 0., 0.],\n",
       "         [0., 0., 0.]],\n",
       "\n",
       "        [[0., 0., 0.],\n",
       "         [0., 0., 0.],\n",
       "         [0., 0., 0.]]])"
      ]
     },
     "execution_count": 20,
     "metadata": {},
     "output_type": "execute_result"
    }
   ],
   "source": [
    "b = torch.zeros(sh)\n",
    "b.flatten().view(sh)"
   ]
  },
  {
   "cell_type": "code",
   "execution_count": 22,
   "metadata": {},
   "outputs": [
    {
     "data": {
      "text/plain": [
       "torch.Size([24])"
      ]
     },
     "execution_count": 22,
     "metadata": {},
     "output_type": "execute_result"
    }
   ],
   "source": []
  },
  {
   "cell_type": "code",
   "execution_count": 34,
   "metadata": {},
   "outputs": [
    {
     "data": {
      "text/plain": [
       "tensor([[[[ 0,  1,  2,  3,  4,  5,  6,  7],\n",
       "          [ 8,  9, 10, 11, 12, 13, 14, 15]],\n",
       "\n",
       "         [[16, 17, 18, 19, 20, 21, 22, 23],\n",
       "          [24, 25, 26, 27, 28, 29, 30, 31]]],\n",
       "\n",
       "\n",
       "        [[[32, 33, 34, 35, 36, 37, 38, 39],\n",
       "          [40, 41, 42, 43, 44, 45, 46, 47]],\n",
       "\n",
       "         [[48, 49, 50, 51, 52, 53, 54, 55],\n",
       "          [56, 57, 58, 59, 60, 61, 62, 63]]]])"
      ]
     },
     "execution_count": 34,
     "metadata": {},
     "output_type": "execute_result"
    }
   ],
   "source": [
    "a = torch.arange(0,64)\n",
    "a = a.reshape(2,2,2,8)\n",
    "a"
   ]
  },
  {
   "cell_type": "code",
   "execution_count": 35,
   "metadata": {},
   "outputs": [
    {
     "data": {
      "text/plain": [
       "tensor([[[ 0,  1,  2,  3],\n",
       "         [ 4,  5,  6,  7],\n",
       "         [ 8,  9, 10, 11],\n",
       "         [12, 13, 14, 15]],\n",
       "\n",
       "        [[16, 17, 18, 19],\n",
       "         [20, 21, 22, 23],\n",
       "         [24, 25, 26, 27],\n",
       "         [28, 29, 30, 31]],\n",
       "\n",
       "        [[32, 33, 34, 35],\n",
       "         [36, 37, 38, 39],\n",
       "         [40, 41, 42, 43],\n",
       "         [44, 45, 46, 47]],\n",
       "\n",
       "        [[48, 49, 50, 51],\n",
       "         [52, 53, 54, 55],\n",
       "         [56, 57, 58, 59],\n",
       "         [60, 61, 62, 63]]])"
      ]
     },
     "execution_count": 35,
     "metadata": {},
     "output_type": "execute_result"
    }
   ],
   "source": [
    "a.reshape(4,4,4)"
   ]
  },
  {
   "cell_type": "code",
   "execution_count": 39,
   "metadata": {},
   "outputs": [
    {
     "data": {
      "text/plain": [
       "tensor([[[0, 1],\n",
       "         [2, 3]],\n",
       "\n",
       "        [[4, 5],\n",
       "         [6, 7]]])"
      ]
     },
     "execution_count": 39,
     "metadata": {},
     "output_type": "execute_result"
    }
   ],
   "source": [
    "a"
   ]
  },
  {
   "cell_type": "code",
   "execution_count": 42,
   "metadata": {},
   "outputs": [
    {
     "name": "stdout",
     "output_type": "stream",
     "text": [
      "tensor([[[-2, -1],\n",
      "         [ 0,  1]],\n",
      "\n",
      "        [[ 2,  3],\n",
      "         [ 4,  5]]])\n"
     ]
    }
   ],
   "source": [
    "b = (a-2)\n",
    "print(b)\n",
    "x,y,z = torch.where(b>0)"
   ]
  },
  {
   "cell_type": "code",
   "execution_count": 47,
   "metadata": {},
   "outputs": [
    {
     "name": "stdout",
     "output_type": "stream",
     "text": [
      "tensor(0)\n",
      "tensor(1)\n",
      "tensor(1)\n",
      "tensor(1)\n",
      "tensor(1)\n"
     ]
    }
   ],
   "source": [
    "for i in range(len(x)):\n",
    "    print(x[i])"
   ]
  },
  {
   "cell_type": "code",
   "execution_count": null,
   "metadata": {},
   "outputs": [],
   "source": []
  },
  {
   "cell_type": "markdown",
   "metadata": {},
   "source": [
    "### test code "
   ]
  },
  {
   "cell_type": "code",
   "execution_count": 6,
   "metadata": {},
   "outputs": [],
   "source": [
    "from typing import Dict, Tuple, Optional\n",
    "import torch\n",
    "from torch import Tensor\n",
    "sigma = 0.02\n",
    "a = torch.distributions.normal.Normal(torch.tensor(0.), torch.tensor(sigma/3))"
   ]
  },
  {
   "cell_type": "code",
   "execution_count": 22,
   "metadata": {},
   "outputs": [
    {
     "data": {
      "text/plain": [
       "tensor([[      1,       2,       3, 1000000, 1000000],\n",
       "        [      1,       2,       3, 1000000, 1000000]])"
      ]
     },
     "execution_count": 22,
     "metadata": {},
     "output_type": "execute_result"
    }
   ],
   "source": [
    "INF = 1e6\n",
    "dp_mask = torch.tensor([[1,2,3,0,0],[1,2,3,0,0]])\n",
    "\n",
    "dp_mask.masked_fill_(dp_mask.eq(0.0), INF)\n",
    "\n"
   ]
  },
  {
   "cell_type": "code",
   "execution_count": 3,
   "metadata": {},
   "outputs": [
    {
     "data": {
      "text/plain": [
       "tensor([[59.8413],\n",
       "        [59.8413],\n",
       "        [59.8413]], device='cuda:0')"
      ]
     },
     "execution_count": 3,
     "metadata": {},
     "output_type": "execute_result"
    }
   ],
   "source": [
    "a.log_prob(b).exp()"
   ]
  },
  {
   "cell_type": "code",
   "execution_count": 4,
   "metadata": {},
   "outputs": [
    {
     "data": {
      "text/plain": [
       "tensor(59.8413)"
      ]
     },
     "execution_count": 4,
     "metadata": {},
     "output_type": "execute_result"
    }
   ],
   "source": [
    "a.log_prob(0).exp()"
   ]
  },
  {
   "cell_type": "code",
   "execution_count": 5,
   "metadata": {},
   "outputs": [
    {
     "data": {
      "text/plain": [
       "0.6647772617907017"
      ]
     },
     "execution_count": 5,
     "metadata": {},
     "output_type": "execute_result"
    }
   ],
   "source": [
    "import math\n",
    "\n",
    "func = lambda x: math.exp(-(x**2)/(2*(sigma/3)**2))/(math.sqrt(2*math.pi)*(sigma/3))\n",
    "func(sigma)"
   ]
  },
  {
   "cell_type": "markdown",
   "metadata": {},
   "source": [
    "### vis the weight distribution"
   ]
  },
  {
   "cell_type": "code",
   "execution_count": 3,
   "metadata": {},
   "outputs": [
    {
     "data": {
      "text/plain": [
       "dict_keys(['rgb', 'depth', 'weights', 't_vals'])"
      ]
     },
     "execution_count": 3,
     "metadata": {},
     "output_type": "execute_result"
    }
   ],
   "source": [
    "rout = torch.load(\"vis_dp.pt\",map_location='cpu')\n",
    "rout.keys()"
   ]
  },
  {
   "cell_type": "code",
   "execution_count": 4,
   "metadata": {},
   "outputs": [],
   "source": [
    "num = 3\n",
    "base = np.random.randint(32000)\n",
    "dp = torch.load('dp.pt')[base:base+num]\n",
    "we = rout['weights'].detach()[base:base+num]\n",
    "tv = rout['t_vals'].detach()[base:base+num]"
   ]
  },
  {
   "cell_type": "code",
   "execution_count": 5,
   "metadata": {},
   "outputs": [
    {
     "data": {
      "image/png": "[encoded data removed]",
      "text/plain": [
       "<Figure size 432x288 with 1 Axes>"
      ]
     },
     "metadata": {
      "needs_background": "light"
     },
     "output_type": "display_data"
    }
   ],
   "source": [
    "plt.figure()\n",
    "for i in range(num):\n",
    "    tv_mk = tv[i].ne(0.0)\n",
    "    tvs = tv[i][tv_mk]\n",
    "    wes = we[i][tv_mk]\n",
    "    plt.plot(tvs,wes)\n",
    "    \n",
    "    plt.scatter(dp[i],np.array(0.0))\n",
    "plt.show()"
   ]
  },
  {
   "cell_type": "code",
   "execution_count": 6,
   "metadata": {},
   "outputs": [],
   "source": [
    "dp = torch.load('dp.pt')\n",
    "dp_mask = dp.ne(0.0)\n",
    "dp = dp[dp_mask]\n",
    "we = rout['weights'].detach()[dp_mask]\n",
    "tv = rout['t_vals'].detach()[dp_mask]"
   ]
  },
  {
   "cell_type": "code",
   "execution_count": 7,
   "metadata": {},
   "outputs": [
    {
     "data": {
      "text/plain": [
       "tensor([12, 10,  9,  ..., 12, 13, 12])"
      ]
     },
     "execution_count": 7,
     "metadata": {},
     "output_type": "execute_result"
    }
   ],
   "source": [
    "tv_max_idx = torch.argmax(tv,dim=-1)\n",
    "tv_max_idx"
   ]
  },
  {
   "cell_type": "code",
   "execution_count": 8,
   "metadata": {},
   "outputs": [
    {
     "data": {
      "text/plain": [
       "torch.Size([30445])"
      ]
     },
     "execution_count": 8,
     "metadata": {},
     "output_type": "execute_result"
    }
   ],
   "source": [
    "we_all = []\n",
    "for index,i in enumerate(tv_max_idx):\n",
    "    we_all.append(we[index][i])\n",
    "we_all = torch.stack(we_all)\n",
    "we_all.shape"
   ]
  },
  {
   "cell_type": "code",
   "execution_count": 9,
   "metadata": {},
   "outputs": [
    {
     "data": {
      "text/plain": [
       "torch.Size([30445])"
      ]
     },
     "execution_count": 9,
     "metadata": {},
     "output_type": "execute_result"
    }
   ],
   "source": [
    "tv_all = []\n",
    "for index,i in enumerate(tv_max_idx):\n",
    "    tv_all.append(tv[index][i])\n",
    "tv_all = torch.stack(tv_all)\n",
    "tv_all.shape"
   ]
  },
  {
   "cell_type": "code",
   "execution_count": 10,
   "metadata": {},
   "outputs": [
    {
     "data": {
      "text/plain": [
       "tensor(3.5664)"
      ]
     },
     "execution_count": 10,
     "metadata": {},
     "output_type": "execute_result"
    }
   ],
   "source": [
    "dists = (tv_all-dp)\n",
    "dists.max()-dists.min()"
   ]
  },
  {
   "cell_type": "code",
   "execution_count": null,
   "metadata": {
    "ExecuteTime": {
     "end_time": "2022-02-19T08:10:26.545818Z",
     "start_time": "2022-02-19T08:10:26.545806Z"
    }
   },
   "outputs": [],
   "source": [
    "plt.figure(figsize=(10, 5), dpi=100)\n",
    "plt.hist(dists[:100], bins=10)\n",
    "plt.grid(linestyle=\"--\", alpha=0.5)"
   ]
  },
  {
   "cell_type": "code",
   "execution_count": 14,
   "metadata": {
    "ExecuteTime": {
     "end_time": "2022-02-19T08:10:35.421478Z",
     "start_time": "2022-02-19T08:10:35.416069Z"
    }
   },
   "outputs": [],
   "source": [
    "plt.show()"
   ]
  },
  {
   "cell_type": "code",
   "execution_count": null,
   "metadata": {},
   "outputs": [],
   "source": []
  }
 ],
 "metadata": {
  "interpreter": {
   "hash": "afc46cdbaec78713ab9233e91f9bf86eb4111f2df6c8364fa345446d20f0faae"
  },
  "kernelspec": {
   "display_name": "Python 3 (ipykernel)",
   "language": "python",
   "name": "python3"
  },
  "language_info": {
   "codemirror_mode": {
    "name": "ipython",
    "version": 3
   },
   "file_extension": ".py",
   "mimetype": "text/x-python",
   "name": "python",
   "nbconvert_exporter": "python",
   "pygments_lexer": "ipython3",
   "version": "3.8.5"
  },
  "toc": {
   "base_numbering": 1,
   "nav_menu": {},
   "number_sections": true,
   "sideBar": true,
   "skip_h1_title": false,
   "title_cell": "Table of Contents",
   "title_sidebar": "Contents",
   "toc_cell": false,
   "toc_position": {},
   "toc_section_display": true,
   "toc_window_display": false
  }
 },
 "nbformat": 4,
 "nbformat_minor": 2
}
